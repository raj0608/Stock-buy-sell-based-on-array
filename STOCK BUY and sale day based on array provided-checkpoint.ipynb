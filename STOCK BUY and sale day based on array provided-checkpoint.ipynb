{
 "cells": [
  {
   "cell_type": "code",
   "execution_count": 2,
   "metadata": {},
   "outputs": [
    {
     "name": "stdout",
     "output_type": "stream",
     "text": [
      "Buy on day:  0 \t Sell on day:  3\n"
     ]
    }
   ],
   "source": [
    "def stockBuySell(price, n):\n",
    "    if (n == 1):\n",
    "        return\n",
    "    \n",
    "    i = 0\n",
    "    while (i < (n - 1)):\n",
    "        #local minima\n",
    "\n",
    "        while ((i < (n - 1)) and (price[i + 1] <= price[i])):\n",
    "            i += 1\n",
    "        \n",
    "        \n",
    "        if (i == n - 1):\n",
    "            break\n",
    "        \n",
    "        #minima\n",
    "        buy = i\n",
    "        i += 1\n",
    "        \n",
    "        #Local Maxima\n",
    "        \n",
    "        while ((i < n) and (price[i] >= price[i - 1])):\n",
    "            i += 1\n",
    "            \n",
    "        #maxima\n",
    "        sell = i - 1\n",
    "    \n",
    "        print(\"Buy on day: \",buy,\"\\t\",\n",
    "                \"Sell on day: \",sell)\n",
    "price = [99, 190, 260, 310, 78, 55]\n",
    "n = len(price)\n",
    "\n",
    "stockBuySell(price, n)\n"
   ]
  },
  {
   "cell_type": "code",
   "execution_count": null,
   "metadata": {},
   "outputs": [],
   "source": []
  }
 ],
 "metadata": {
  "kernelspec": {
   "display_name": "Python 3",
   "language": "python",
   "name": "python3"
  },
  "language_info": {
   "codemirror_mode": {
    "name": "ipython",
    "version": 3
   },
   "file_extension": ".py",
   "mimetype": "text/x-python",
   "name": "python",
   "nbconvert_exporter": "python",
   "pygments_lexer": "ipython3",
   "version": "3.7.6"
  }
 },
 "nbformat": 4,
 "nbformat_minor": 4
}
